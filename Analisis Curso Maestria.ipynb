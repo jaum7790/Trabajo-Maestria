{
 "cells": [
  {
   "cell_type": "code",
   "execution_count": 19,
   "metadata": {},
   "outputs": [],
   "source": [
    "#Escuela Politecnica Nacional\n",
    "# Índices Financieros de las Empresas TIC - Ministerio de Telecomunicaciones y de la Sociedad de la Información (2009-2013)\n",
    "#Fuente: http://catalogo.datosabiertos.gob.ec/dataset/indices-financieros-de-las-empresas-tic\n",
    "import pandas as pd"
   ]
  },
  {
   "cell_type": "code",
   "execution_count": 161,
   "metadata": {},
   "outputs": [],
   "source": [
    "surveys_df = pd.read_csv(\"./indices_financieros.csv\",\n",
    "                         keep_default_na=False, na_values=[\"\"])"
   ]
  },
  {
   "cell_type": "code",
   "execution_count": 162,
   "metadata": {},
   "outputs": [
    {
     "data": {
      "text/html": [
       "<div>\n",
       "<style scoped>\n",
       "    .dataframe tbody tr th:only-of-type {\n",
       "        vertical-align: middle;\n",
       "    }\n",
       "\n",
       "    .dataframe tbody tr th {\n",
       "        vertical-align: top;\n",
       "    }\n",
       "\n",
       "    .dataframe thead th {\n",
       "        text-align: right;\n",
       "    }\n",
       "</style>\n",
       "<table border=\"1\" class=\"dataframe\">\n",
       "  <thead>\n",
       "    <tr style=\"text-align: right;\">\n",
       "      <th></th>\n",
       "      <th>AÑO</th>\n",
       "      <th>RATIO</th>\n",
       "      <th>SECTOR</th>\n",
       "      <th>VALOR</th>\n",
       "    </tr>\n",
       "  </thead>\n",
       "  <tbody>\n",
       "    <tr>\n",
       "      <th>0</th>\n",
       "      <td>2009</td>\n",
       "      <td>VENTAS</td>\n",
       "      <td>ALQUILER HARDWARE</td>\n",
       "      <td>3.987011e+06</td>\n",
       "    </tr>\n",
       "    <tr>\n",
       "      <th>1</th>\n",
       "      <td>2010</td>\n",
       "      <td>VENTAS</td>\n",
       "      <td>ALQUILER HARDWARE</td>\n",
       "      <td>4.132465e+06</td>\n",
       "    </tr>\n",
       "    <tr>\n",
       "      <th>2</th>\n",
       "      <td>2011</td>\n",
       "      <td>VENTAS</td>\n",
       "      <td>ALQUILER HARDWARE</td>\n",
       "      <td>5.243157e+06</td>\n",
       "    </tr>\n",
       "    <tr>\n",
       "      <th>3</th>\n",
       "      <td>2012</td>\n",
       "      <td>VENTAS</td>\n",
       "      <td>ALQUILER HARDWARE</td>\n",
       "      <td>5.204345e+06</td>\n",
       "    </tr>\n",
       "    <tr>\n",
       "      <th>4</th>\n",
       "      <td>2013</td>\n",
       "      <td>VENTAS</td>\n",
       "      <td>ALQUILER HARDWARE</td>\n",
       "      <td>5.459503e+06</td>\n",
       "    </tr>\n",
       "    <tr>\n",
       "      <th>...</th>\n",
       "      <td>...</td>\n",
       "      <td>...</td>\n",
       "      <td>...</td>\n",
       "      <td>...</td>\n",
       "    </tr>\n",
       "    <tr>\n",
       "      <th>360</th>\n",
       "      <td>2009</td>\n",
       "      <td>EXPORTACIONES NETAS</td>\n",
       "      <td>TELECOMUNICACIONES</td>\n",
       "      <td>1.991967e+08</td>\n",
       "    </tr>\n",
       "    <tr>\n",
       "      <th>361</th>\n",
       "      <td>2010</td>\n",
       "      <td>EXPORTACIONES NETAS</td>\n",
       "      <td>TELECOMUNICACIONES</td>\n",
       "      <td>1.862588e+08</td>\n",
       "    </tr>\n",
       "    <tr>\n",
       "      <th>362</th>\n",
       "      <td>2011</td>\n",
       "      <td>EXPORTACIONES NETAS</td>\n",
       "      <td>TELECOMUNICACIONES</td>\n",
       "      <td>1.974875e+08</td>\n",
       "    </tr>\n",
       "    <tr>\n",
       "      <th>363</th>\n",
       "      <td>2012</td>\n",
       "      <td>EXPORTACIONES NETAS</td>\n",
       "      <td>TELECOMUNICACIONES</td>\n",
       "      <td>1.767717e+08</td>\n",
       "    </tr>\n",
       "    <tr>\n",
       "      <th>364</th>\n",
       "      <td>2013</td>\n",
       "      <td>EXPORTACIONES NETAS</td>\n",
       "      <td>TELECOMUNICACIONES</td>\n",
       "      <td>1.557262e+08</td>\n",
       "    </tr>\n",
       "  </tbody>\n",
       "</table>\n",
       "<p>365 rows × 4 columns</p>\n",
       "</div>"
      ],
      "text/plain": [
       "      AÑO                RATIO              SECTOR         VALOR\n",
       "0    2009               VENTAS   ALQUILER HARDWARE  3.987011e+06\n",
       "1    2010               VENTAS   ALQUILER HARDWARE  4.132465e+06\n",
       "2    2011               VENTAS   ALQUILER HARDWARE  5.243157e+06\n",
       "3    2012               VENTAS   ALQUILER HARDWARE  5.204345e+06\n",
       "4    2013               VENTAS   ALQUILER HARDWARE  5.459503e+06\n",
       "..    ...                  ...                 ...           ...\n",
       "360  2009  EXPORTACIONES NETAS  TELECOMUNICACIONES  1.991967e+08\n",
       "361  2010  EXPORTACIONES NETAS  TELECOMUNICACIONES  1.862588e+08\n",
       "362  2011  EXPORTACIONES NETAS  TELECOMUNICACIONES  1.974875e+08\n",
       "363  2012  EXPORTACIONES NETAS  TELECOMUNICACIONES  1.767717e+08\n",
       "364  2013  EXPORTACIONES NETAS  TELECOMUNICACIONES  1.557262e+08\n",
       "\n",
       "[365 rows x 4 columns]"
      ]
     },
     "execution_count": 162,
     "metadata": {},
     "output_type": "execute_result"
    }
   ],
   "source": [
    "surveys_df"
   ]
  },
  {
   "cell_type": "code",
   "execution_count": 174,
   "metadata": {},
   "outputs": [],
   "source": [
    "dataframe=surveys_df.loc[surveys_df['RATIO'] == 'VENTAS'] #Se extrae la información de Ventas de los años 2009 al 2013"
   ]
  },
  {
   "cell_type": "code",
   "execution_count": 175,
   "metadata": {
    "scrolled": true
   },
   "outputs": [
    {
     "ename": "SyntaxError",
     "evalue": "unmatched ']' (<ipython-input-175-b15dcabbdb86>, line 1)",
     "output_type": "error",
     "traceback": [
      "\u001b[1;36m  File \u001b[1;32m\"<ipython-input-175-b15dcabbdb86>\"\u001b[1;36m, line \u001b[1;32m1\u001b[0m\n\u001b[1;33m    print(dataframe)]\u001b[0m\n\u001b[1;37m                    ^\u001b[0m\n\u001b[1;31mSyntaxError\u001b[0m\u001b[1;31m:\u001b[0m unmatched ']'\n"
     ]
    }
   ],
   "source": [
    "print(dataframe)]"
   ]
  },
  {
   "cell_type": "code",
   "execution_count": 176,
   "metadata": {},
   "outputs": [],
   "source": [
    "dataframe2009=dataframe.loc[dataframe['AÑO'] == 2009] # Extrae la información del 2009 para ventas\n",
    "dataframe2010=dataframe.loc[dataframe['AÑO'] == 2010] # Extrae la información del 2010 para ventas\n",
    "dataframe2011=dataframe.loc[dataframe['AÑO'] == 2011] # Extrae la información del 2011 para ventas\n",
    "dataframe2012=dataframe.loc[dataframe['AÑO'] == 2012] # Extrae la información del 2012 para ventas\n",
    "dataframe2013=dataframe.loc[dataframe['AÑO'] == 2013] # Extrae la información del 2013 para ventas"
   ]
  },
  {
   "cell_type": "code",
   "execution_count": 177,
   "metadata": {},
   "outputs": [
    {
     "data": {
      "text/plain": [
       "<matplotlib.axes._subplots.AxesSubplot at 0x27dc922b8b0>"
      ]
     },
     "execution_count": 177,
     "metadata": {},
     "output_type": "execute_result"
    },
    {
     "data": {
      "image/png": "[encoded data removed]",
      "text/plain": [
       "<Figure size 432x288 with 1 Axes>"
      ]
     },
     "metadata": {
      "needs_background": "light"
     },
     "output_type": "display_data"
    }
   ],
   "source": [
    "dataframeagrupa = pd.concat([dataframe2009, dataframe2010,dataframe2011,dataframe2012,dataframe2013], axis=0)\n",
    "\n",
    "venta_anual = dataframeagrupa.groupby(['SECTOR', 'AÑO']).mean()['VALOR'].unstack()\n",
    "venta_anual.plot( kind='bar')\n"
   ]
  },
  {
   "cell_type": "code",
   "execution_count": 178,
   "metadata": {},
   "outputs": [],
   "source": [
    "##ANÁLISIS\n",
    "##De la muestra tomada podemos observar que las ventas de TI se incrementan cada vez mas segun pasan los años \n",
    "##ya que no se observa ningun retroseso en las ventas de ninguno de los sectores de TI.\n",
    "##Se Observa que el sector de telecomunicaciones es el que mas crecimiento en ventas a tenido en el transcurso de los años.\n",
    "##Se observa que el sector del alquiler de hardware es el que menores ganancias genera, esto se deberia a que en dichos años\n",
    "##la mayoria de personas habria adquirido al menos un computador en sus hogares"
   ]
  },
  {
   "cell_type": "code",
   "execution_count": 179,
   "metadata": {},
   "outputs": [],
   "source": [
    "dataframeex=surveys_df.loc[surveys_df['RATIO'] == 'EXPORTACIONES NETAS'] #Se extrae la información de Ventas de los años 2009 al 2013"
   ]
  },
  {
   "cell_type": "code",
   "execution_count": 180,
   "metadata": {},
   "outputs": [
    {
     "name": "stdout",
     "output_type": "stream",
     "text": [
      "      AÑO                RATIO                     SECTOR         VALOR\n",
      "335  2009  EXPORTACIONES NETAS          ALQUILER HARDWARE  1.201098e+04\n",
      "336  2010  EXPORTACIONES NETAS          ALQUILER HARDWARE  0.000000e+00\n",
      "337  2011  EXPORTACIONES NETAS          ALQUILER HARDWARE  0.000000e+00\n",
      "338  2012  EXPORTACIONES NETAS          ALQUILER HARDWARE  0.000000e+00\n",
      "339  2013  EXPORTACIONES NETAS          ALQUILER HARDWARE  0.000000e+00\n",
      "340  2009  EXPORTACIONES NETAS  COMERCIALIZACIÓN HARDWARE  9.012874e+05\n",
      "341  2010  EXPORTACIONES NETAS  COMERCIALIZACIÓN HARDWARE  1.712539e+06\n",
      "342  2011  EXPORTACIONES NETAS  COMERCIALIZACIÓN HARDWARE  4.727216e+06\n",
      "343  2012  EXPORTACIONES NETAS  COMERCIALIZACIÓN HARDWARE  4.931543e+06\n",
      "344  2013  EXPORTACIONES NETAS  COMERCIALIZACIÓN HARDWARE  4.536861e+06\n",
      "345  2009  EXPORTACIONES NETAS                 CONTENIDOS  5.188943e+06\n",
      "346  2010  EXPORTACIONES NETAS                 CONTENIDOS  7.562809e+06\n",
      "347  2011  EXPORTACIONES NETAS                 CONTENIDOS  1.218633e+07\n",
      "348  2012  EXPORTACIONES NETAS                 CONTENIDOS  1.470675e+07\n",
      "349  2013  EXPORTACIONES NETAS                 CONTENIDOS  1.376128e+07\n",
      "350  2009  EXPORTACIONES NETAS       FABRICACIÓN HARDWARE  2.089500e+07\n",
      "351  2010  EXPORTACIONES NETAS       FABRICACIÓN HARDWARE  1.611881e+07\n",
      "352  2011  EXPORTACIONES NETAS       FABRICACIÓN HARDWARE  2.553091e+07\n",
      "353  2012  EXPORTACIONES NETAS       FABRICACIÓN HARDWARE  2.159055e+07\n",
      "354  2013  EXPORTACIONES NETAS       FABRICACIÓN HARDWARE  1.839694e+07\n",
      "355  2009  EXPORTACIONES NETAS                   SOFTWARE  3.315499e+07\n",
      "356  2010  EXPORTACIONES NETAS                   SOFTWARE  5.864242e+07\n",
      "357  2011  EXPORTACIONES NETAS                   SOFTWARE  6.933149e+07\n",
      "358  2012  EXPORTACIONES NETAS                   SOFTWARE  6.673469e+07\n",
      "359  2013  EXPORTACIONES NETAS                   SOFTWARE  5.771091e+07\n",
      "360  2009  EXPORTACIONES NETAS         TELECOMUNICACIONES  1.991967e+08\n",
      "361  2010  EXPORTACIONES NETAS         TELECOMUNICACIONES  1.862588e+08\n",
      "362  2011  EXPORTACIONES NETAS         TELECOMUNICACIONES  1.974875e+08\n",
      "363  2012  EXPORTACIONES NETAS         TELECOMUNICACIONES  1.767717e+08\n",
      "364  2013  EXPORTACIONES NETAS         TELECOMUNICACIONES  1.557262e+08\n"
     ]
    }
   ],
   "source": [
    "print(dataframeex)"
   ]
  },
  {
   "cell_type": "code",
   "execution_count": 181,
   "metadata": {},
   "outputs": [],
   "source": [
    "dataframeex2009=dataframeex.loc[dataframeex['AÑO'] == 2009] # Extrae la información del 2009 para Exportaciones\n",
    "dataframeex2010=dataframeex.loc[dataframeex['AÑO'] == 2010] # Extrae la información del 2010 para Exportaciones\n",
    "dataframeex2011=dataframeex.loc[dataframeex['AÑO'] == 2011] # Extrae la información del 2011 para Exportaciones\n",
    "dataframeex2012=dataframeex.loc[dataframeex['AÑO'] == 2012] # Extrae la información del 2012 para Exportaciones\n",
    "dataframeex2013=dataframeex.loc[dataframeex['AÑO'] == 2013] # Extrae la información del 2013 para Exportaciones"
   ]
  },
  {
   "cell_type": "code",
   "execution_count": 182,
   "metadata": {},
   "outputs": [
    {
     "data": {
      "text/plain": [
       "<matplotlib.axes._subplots.AxesSubplot at 0x27dc8ea6fa0>"
      ]
     },
     "execution_count": 182,
     "metadata": {},
     "output_type": "execute_result"
    },
    {
     "data": {
      "image/png": "[encoded data removed]",
      "text/plain": [
       "<Figure size 432x288 with 1 Axes>"
      ]
     },
     "metadata": {
      "needs_background": "light"
     },
     "output_type": "display_data"
    }
   ],
   "source": [
    "dataframeagrupaex = pd.concat([dataframeex2009, dataframeex2010,dataframeex2011,dataframeex2012,dataframeex2013], axis=0)\n",
    "\n",
    "exportacion_anual = dataframeagrupaex.groupby(['SECTOR', 'AÑO']).mean()['VALOR'].unstack()\n",
    "exportacion_anual.plot( kind='bar')"
   ]
  },
  {
   "cell_type": "code",
   "execution_count": 183,
   "metadata": {},
   "outputs": [],
   "source": [
    "##ANÁLISIS 2\n",
    "##De la muestra tomada podemos observar que las exportaciones de TI han ido disminuyendo en los ultimos años\n",
    "##Se observa un incremento hasta el año 2011 aproximandamente, pero un retroceso  a partir del año 2012\n",
    "##El sector mas afectado seria el de las telecomunicaciones siendo este uno de los que mas perdidas han generado al \n",
    "##comparatlo con años pasados, el efecto de estas perdias podria no haberse sentido tanto debido al crecimiento en ventas \n",
    "##nacionales de dicho sector.\n",
    "\n"
   ]
  },
  {
   "cell_type": "code",
   "execution_count": null,
   "metadata": {},
   "outputs": [],
   "source": [
    "dataframe2013=surveys_df.loc[surveys_df['AÑO'] == 2013] #Se extrae la información de 2013"
   ]
  },
  {
   "cell_type": "code",
   "execution_count": 218,
   "metadata": {},
   "outputs": [],
   "source": [
    "dataframe2013Tele=dataframe2013.loc[surveys_df['SECTOR'] == 'TELECOMUNICACIONES'] #Se extrae la información de 2013"
   ]
  },
  {
   "cell_type": "code",
   "execution_count": 219,
   "metadata": {},
   "outputs": [
    {
     "data": {
      "text/html": [
       "<div>\n",
       "<style scoped>\n",
       "    .dataframe tbody tr th:only-of-type {\n",
       "        vertical-align: middle;\n",
       "    }\n",
       "\n",
       "    .dataframe tbody tr th {\n",
       "        vertical-align: top;\n",
       "    }\n",
       "\n",
       "    .dataframe thead th {\n",
       "        text-align: right;\n",
       "    }\n",
       "</style>\n",
       "<table border=\"1\" class=\"dataframe\">\n",
       "  <thead>\n",
       "    <tr style=\"text-align: right;\">\n",
       "      <th></th>\n",
       "      <th>AÑO</th>\n",
       "      <th>RATIO</th>\n",
       "      <th>SECTOR</th>\n",
       "      <th>VALOR</th>\n",
       "    </tr>\n",
       "  </thead>\n",
       "  <tbody>\n",
       "    <tr>\n",
       "      <th>29</th>\n",
       "      <td>2013</td>\n",
       "      <td>VENTAS</td>\n",
       "      <td>TELECOMUNICACIONES</td>\n",
       "      <td>3.580740e+09</td>\n",
       "    </tr>\n",
       "    <tr>\n",
       "      <th>59</th>\n",
       "      <td>2013</td>\n",
       "      <td>TOTAL ACTIVO</td>\n",
       "      <td>TELECOMUNICACIONES</td>\n",
       "      <td>5.441043e+09</td>\n",
       "    </tr>\n",
       "    <tr>\n",
       "      <th>89</th>\n",
       "      <td>2013</td>\n",
       "      <td>TOTAL ACTIVO CORRIENTE</td>\n",
       "      <td>TELECOMUNICACIONES</td>\n",
       "      <td>1.333522e+09</td>\n",
       "    </tr>\n",
       "    <tr>\n",
       "      <th>119</th>\n",
       "      <td>2013</td>\n",
       "      <td>TOTAL PASIVO CORRIENTE</td>\n",
       "      <td>TELECOMUNICACIONES</td>\n",
       "      <td>1.545017e+09</td>\n",
       "    </tr>\n",
       "    <tr>\n",
       "      <th>149</th>\n",
       "      <td>2013</td>\n",
       "      <td>TOTAL PATRIMONIO NETO</td>\n",
       "      <td>TELECOMUNICACIONES</td>\n",
       "      <td>3.290609e+09</td>\n",
       "    </tr>\n",
       "    <tr>\n",
       "      <th>179</th>\n",
       "      <td>2013</td>\n",
       "      <td>UTILIDAD GRAVABLE</td>\n",
       "      <td>TELECOMUNICACIONES</td>\n",
       "      <td>8.299308e+08</td>\n",
       "    </tr>\n",
       "    <tr>\n",
       "      <th>209</th>\n",
       "      <td>2013</td>\n",
       "      <td>ÍNDICE DE LIQUIDEZ</td>\n",
       "      <td>TELECOMUNICACIONES</td>\n",
       "      <td>8.631113e-01</td>\n",
       "    </tr>\n",
       "    <tr>\n",
       "      <th>239</th>\n",
       "      <td>2013</td>\n",
       "      <td>ROE (RENDIMIENTO DEL PATRIMONIO) (UTILIDAD/PAT...</td>\n",
       "      <td>TELECOMUNICACIONES</td>\n",
       "      <td>2.522119e-01</td>\n",
       "    </tr>\n",
       "    <tr>\n",
       "      <th>269</th>\n",
       "      <td>2013</td>\n",
       "      <td>ROA (RENDIMIENTO DEL ACTIVO) (UTILIDAD/ACTIVO)</td>\n",
       "      <td>TELECOMUNICACIONES</td>\n",
       "      <td>1.525316e-01</td>\n",
       "    </tr>\n",
       "    <tr>\n",
       "      <th>299</th>\n",
       "      <td>2013</td>\n",
       "      <td>UTILIDAD DE VENTAS (UTILIDAD/VENTAS)</td>\n",
       "      <td>TELECOMUNICACIONES</td>\n",
       "      <td>2.317763e-01</td>\n",
       "    </tr>\n",
       "    <tr>\n",
       "      <th>329</th>\n",
       "      <td>2013</td>\n",
       "      <td>NÚMERO DE EMPRESAS</td>\n",
       "      <td>TELECOMUNICACIONES</td>\n",
       "      <td>6.120000e+02</td>\n",
       "    </tr>\n",
       "    <tr>\n",
       "      <th>364</th>\n",
       "      <td>2013</td>\n",
       "      <td>EXPORTACIONES NETAS</td>\n",
       "      <td>TELECOMUNICACIONES</td>\n",
       "      <td>1.557262e+08</td>\n",
       "    </tr>\n",
       "  </tbody>\n",
       "</table>\n",
       "</div>"
      ],
      "text/plain": [
       "      AÑO                                              RATIO  \\\n",
       "29   2013                                             VENTAS   \n",
       "59   2013                                       TOTAL ACTIVO   \n",
       "89   2013                             TOTAL ACTIVO CORRIENTE   \n",
       "119  2013                             TOTAL PASIVO CORRIENTE   \n",
       "149  2013                              TOTAL PATRIMONIO NETO   \n",
       "179  2013                                  UTILIDAD GRAVABLE   \n",
       "209  2013                                 ÍNDICE DE LIQUIDEZ   \n",
       "239  2013  ROE (RENDIMIENTO DEL PATRIMONIO) (UTILIDAD/PAT...   \n",
       "269  2013     ROA (RENDIMIENTO DEL ACTIVO) (UTILIDAD/ACTIVO)   \n",
       "299  2013               UTILIDAD DE VENTAS (UTILIDAD/VENTAS)   \n",
       "329  2013                                 NÚMERO DE EMPRESAS   \n",
       "364  2013                                EXPORTACIONES NETAS   \n",
       "\n",
       "                 SECTOR         VALOR  \n",
       "29   TELECOMUNICACIONES  3.580740e+09  \n",
       "59   TELECOMUNICACIONES  5.441043e+09  \n",
       "89   TELECOMUNICACIONES  1.333522e+09  \n",
       "119  TELECOMUNICACIONES  1.545017e+09  \n",
       "149  TELECOMUNICACIONES  3.290609e+09  \n",
       "179  TELECOMUNICACIONES  8.299308e+08  \n",
       "209  TELECOMUNICACIONES  8.631113e-01  \n",
       "239  TELECOMUNICACIONES  2.522119e-01  \n",
       "269  TELECOMUNICACIONES  1.525316e-01  \n",
       "299  TELECOMUNICACIONES  2.317763e-01  \n",
       "329  TELECOMUNICACIONES  6.120000e+02  \n",
       "364  TELECOMUNICACIONES  1.557262e+08  "
      ]
     },
     "execution_count": 219,
     "metadata": {},
     "output_type": "execute_result"
    }
   ],
   "source": [
    "dataframe2013Tele"
   ]
  },
  {
   "cell_type": "code",
   "execution_count": 228,
   "metadata": {},
   "outputs": [
    {
     "data": {
      "text/plain": [
       "<matplotlib.axes._subplots.AxesSubplot at 0x27dcbee6be0>"
      ]
     },
     "execution_count": 228,
     "metadata": {},
     "output_type": "execute_result"
    },
    {
     "data": {
      "image/png": "[encoded data removed]",
      "text/plain": [
       "<Figure size 432x288 with 1 Axes>"
      ]
     },
     "metadata": {
      "needs_background": "light"
     },
     "output_type": "display_data"
    }
   ],
   "source": [
    "dataframe2013Tele.plot('RATIO','VALOR' ,kind='bar')\n"
   ]
  },
  {
   "cell_type": "code",
   "execution_count": null,
   "metadata": {},
   "outputs": [],
   "source": [
    "##ANALISIS3\n",
    "##Observamos que el numero de empresas se redujo en el año 2013 esto podria haber provocado que las exportaciones netas disminuyan \n",
    "##en dicho año"
   ]
  }
 ],
 "metadata": {
  "kernelspec": {
   "display_name": "Python 3",
   "language": "python",
   "name": "python3"
  },
  "language_info": {
   "codemirror_mode": {
    "name": "ipython",
    "version": 3
   },
   "file_extension": ".py",
   "mimetype": "text/x-python",
   "name": "python",
   "nbconvert_exporter": "python",
   "pygments_lexer": "ipython3",
   "version": "3.8.3"
  }
 },
 "nbformat": 4,
 "nbformat_minor": 4
}
